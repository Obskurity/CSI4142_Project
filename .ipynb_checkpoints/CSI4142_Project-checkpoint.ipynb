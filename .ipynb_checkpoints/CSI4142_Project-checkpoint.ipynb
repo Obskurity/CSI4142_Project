{
 "cells": [
  {
   "cell_type": "markdown",
   "metadata": {},
   "source": [
    "# Data Staging\n",
    "### Extract, Transform, Load (ETL)"
   ]
  },
  {
   "cell_type": "markdown",
   "metadata": {
    "id": "J-vg3IuRsoL5"
   },
   "source": [
    "**Create Data Frame for Facility Locations in Ontario**\n"
   ]
  },
  {
   "cell_type": "code",
   "execution_count": 204,
   "metadata": {
    "id": "u4Th7jCNRxVU"
   },
   "outputs": [],
   "source": [
    "import pandas as pd"
   ]
  },
  {
   "cell_type": "markdown",
   "metadata": {},
   "source": [
    "Extract Facility Location"
   ]
  },
  {
   "cell_type": "code",
   "execution_count": 205,
   "metadata": {
    "colab": {
     "base_uri": "https://localhost:8080/",
     "height": 329
    },
    "id": "Jt1MCF2QVjvS",
    "outputId": "9a7208eb-ac3f-454a-fc1a-8ad8d2c3b3cb"
   },
   "outputs": [
    {
     "name": "stderr",
     "output_type": "stream",
     "text": [
      "C:\\Users\\Arthur\\AppData\\Local\\Temp\\ipykernel_29912\\371614087.py:3: DtypeWarning: Columns (17,18) have mixed types. Specify dtype option on import or set low_memory=False.\n",
      "  df = pd.read_csv('./ODRSF_v1.0.csv', encoding='cp1252')\n"
     ]
    }
   ],
   "source": [
    "# read file containing information about recreation centre locations and types\n",
    "# facility location dataframe\n",
    "df = pd.read_csv('./ODRSF_v1.0.csv', encoding='cp1252')"
   ]
  },
  {
   "cell_type": "markdown",
   "metadata": {},
   "source": [
    "Transform Facility Dataframe"
   ]
  },
  {
   "cell_type": "code",
   "execution_count": 206,
   "metadata": {
    "id": "AF4xSiyDWVPB"
   },
   "outputs": [],
   "source": [
    "# Remove unneeded columns\n",
    "df = df.drop(columns = ['Index', 'Facility_Name', 'Source_Facility_Type', 'Provider', 'City', 'Source_Format_Address', 'CSD_UID', 'PR_UID', 'Latitude', 'Longitude'])\n",
    "\n",
    "# Remove unit since almost all values are null\n",
    "df = df.drop(columns = ['Unit'])"
   ]
  },
  {
   "cell_type": "code",
   "execution_count": 207,
   "metadata": {
    "id": "_1CiZM8ferMW"
   },
   "outputs": [],
   "source": [
    "#Replace empty values of street_no with -1\n",
    "df.loc[df['Street_No'] == '..', 'Street_No'] = '-1'\n",
    "\n",
    "# Replace rest of street strings with an empty value\n",
    "df.loc[df['Street_Name'] == '..', 'Street_Name'] = ''\n",
    "df.loc[df['Street_Type'] == '..', 'Street_Type'] = ''\n",
    "df.loc[df['Street_Direction'] == '..', 'Street_Direction'] = ''\n",
    "df.loc[df['Street_Direction'] == '..', 'Street_Direction'] = ''\n",
    "df.loc[df['Postal_Code'] == '..', 'Postal_Code'] = ''"
   ]
  },
  {
   "cell_type": "code",
   "execution_count": 208,
   "metadata": {
    "id": "jouxryv1k50D"
   },
   "outputs": [],
   "source": [
    "#convert street_no to integer\n",
    "df['Street_No'] = df['Street_No'].astype(int)"
   ]
  },
  {
   "cell_type": "code",
   "execution_count": 209,
   "metadata": {
    "id": "djTDyVRUk7ps"
   },
   "outputs": [],
   "source": [
    "# Captialize all province/territory column\n",
    "df['Prov_Terr'] = df['Prov_Terr'].str.upper()"
   ]
  },
  {
   "cell_type": "code",
   "execution_count": 210,
   "metadata": {
    "id": "1AywaMwzymy2"
   },
   "outputs": [],
   "source": [
    "# remove all non ontario provinces\n",
    "df = df[df['Prov_Terr'] == 'ON']"
   ]
  },
  {
   "cell_type": "code",
   "execution_count": 211,
   "metadata": {
    "id": "kGYRd7NECJy9"
   },
   "outputs": [],
   "source": [
    "unique_cities = df['CSD_Name'].unique()"
   ]
  },
  {
   "cell_type": "markdown",
   "metadata": {
    "id": "l4WjI9uWaBE1"
   },
   "source": [
    "**Create Dataframe for City Demographics in Ontario**"
   ]
  },
  {
   "cell_type": "code",
   "execution_count": 212,
   "metadata": {
    "id": "B694hG3tEyYt"
   },
   "outputs": [],
   "source": [
    "demographic_df = pd.read_csv('./Ontario_Demographics.csv', encoding='cp1252')"
   ]
  },
  {
   "cell_type": "code",
   "execution_count": 213,
   "metadata": {
    "id": "DXG6weeKE0IQ"
   },
   "outputs": [],
   "source": [
    "demographic_df = demographic_df.drop(columns = ['CENSUS_YEAR', 'DGUID', 'ALT_GEO_CODE', 'GEO_LEVEL', 'TNR_SF', 'TNR_LF', 'DATA_QUALITY_FLAG','SYMBOL', 'CHARACTERISTIC_ID', 'CHARACTERISTIC_NOTE', 'C2_COUNT_MEN+', 'C3_COUNT_WOMEN+', 'C10_RATE_TOTAL', 'C11_RATE_MEN+', 'C12_RATE_WOMEN+', 'SYMBOL.1','SYMBOL.2','SYMBOL.3','SYMBOL.4','SYMBOL.5'])"
   ]
  },
  {
   "cell_type": "code",
   "execution_count": 214,
   "metadata": {
    "id": "CMTB4_h3FUGK"
   },
   "outputs": [],
   "source": [
    "# Remove unnecessary information after comma in geo_name so processing can be easier\n",
    "demographic_df['GEO_NAME'] = demographic_df['GEO_NAME'].str.split(',').str[0]"
   ]
  },
  {
   "cell_type": "code",
   "execution_count": 215,
   "metadata": {
    "id": "06JmSp--G_F9"
   },
   "outputs": [],
   "source": [
    "# only keep rows where the city is both in the demographic dataframe and the facility location dataframe\n",
    "demographic_df = demographic_df[demographic_df['GEO_NAME'].isin(unique_cities)]"
   ]
  },
  {
   "cell_type": "code",
   "execution_count": 216,
   "metadata": {
    "id": "e4kFAwyFPBZ-"
   },
   "outputs": [],
   "source": [
    "#get starting and ending index of rows that contain age information about the city\n",
    "age_indexes = demographic_df[demographic_df['CHARACTERISTIC_NAME'].str.contains('Total - Age groups of the population - 100% data|100 years and over')].index\n",
    "\n",
    "#get starting and ending index of rows that contain ethnicity information about the city\n",
    "ethnicity_indexes = demographic_df[demographic_df['CHARACTERISTIC_NAME'].str.contains('Total visible minority population|Total - Ethnic or cultural origin for the population in private households - 25% sample data')].index"
   ]
  },
  {
   "cell_type": "code",
   "execution_count": 217,
   "metadata": {
    "id": "g0bFTYZuT6An"
   },
   "outputs": [],
   "source": [
    "selected_age_dfs = []\n",
    "selected_ethnicity_dfs = []\n",
    "\n",
    "# store only data in dataframe from start and end indexes\n",
    "for i in range(0, len(age_indexes), 2):\n",
    "    age_df = demographic_df[age_indexes[i] + 1: age_indexes[i + 1] + 1]\n",
    "    ethnicity_df = demographic_df[ethnicity_indexes[i] + 1: ethnicity_indexes[i + 1]]\n",
    "    selected_age_dfs.append(age_df)\n",
    "    selected_ethnicity_dfs.append(ethnicity_df)\n",
    "\n",
    "#resulting dataframes \n",
    "result_age_df = pd.concat(selected_age_dfs, ignore_index=True)\n",
    "result_ethnicity_df = pd.concat(selected_ethnicity_dfs, ignore_index=True)\n",
    "\n",
    "#result_age_df.to_csv('ageres.csv', index=False)\n",
    "#result_ethnicity_df.to_csv('ethres.csv', index=False)"
   ]
  },
  {
   "cell_type": "code",
   "execution_count": 218,
   "metadata": {},
   "outputs": [
    {
     "data": {
      "text/plain": [
       "0"
      ]
     },
     "execution_count": 218,
     "metadata": {},
     "output_type": "execute_result"
    }
   ],
   "source": [
    "# set empty values/null to 0\n",
    "result_age_df.fillna({'C1_COUNT_TOTAL': 0}, inplace=True)\n",
    "# check for null\n",
    "result_age_df['C1_COUNT_TOTAL'].isnull().sum()"
   ]
  },
  {
   "cell_type": "code",
   "execution_count": 219,
   "metadata": {},
   "outputs": [
    {
     "data": {
      "text/plain": [
       "0"
      ]
     },
     "execution_count": 219,
     "metadata": {},
     "output_type": "execute_result"
    }
   ],
   "source": [
    "# set empty values/null to 0\n",
    "result_ethnicity_df.fillna({'C1_COUNT_TOTAL': 0}, inplace=True)\n",
    "# check for null\n",
    "result_ethnicity_df['C1_COUNT_TOTAL'].isnull().sum()"
   ]
  },
  {
   "cell_type": "code",
   "execution_count": 220,
   "metadata": {},
   "outputs": [],
   "source": [
    "# get all unique cities from list\n",
    "cities = result_age_df['GEO_NAME'].unique()"
   ]
  },
  {
   "cell_type": "markdown",
   "metadata": {},
   "source": [
    "Transpose Age Dataframe"
   ]
  },
  {
   "cell_type": "code",
   "execution_count": 221,
   "metadata": {},
   "outputs": [],
   "source": [
    "# Unique age ranges - will be used as the new column in the new dataframe\n",
    "ages = result_age_df['CHARACTERISTIC_NAME'].unique()\n",
    "\n",
    "age_df = pd.DataFrame(columns=ages)\n",
    "\n",
    "# add new column for city\n",
    "age_df.insert(loc=0, column='City', value='')"
   ]
  },
  {
   "cell_type": "code",
   "execution_count": 222,
   "metadata": {},
   "outputs": [],
   "source": [
    "# Populate first column cities with all city variables\n",
    "age_df['City'] = cities\n",
    "\n",
    "# Set column data\n",
    "j = 0\n",
    "for i in range(len(cities)):\n",
    "    for column in age_df.columns[1:]: \n",
    "        age_df.loc[i, column] = result_age_df.loc[j,'C1_COUNT_TOTAL']\n",
    "        j += 1     "
   ]
  },
  {
   "cell_type": "markdown",
   "metadata": {},
   "source": [
    "Transpose Ethnicity Dataframe"
   ]
  },
  {
   "cell_type": "code",
   "execution_count": 223,
   "metadata": {},
   "outputs": [],
   "source": [
    "ethnicities = result_ethnicity_df['CHARACTERISTIC_NAME'].unique()\n",
    "\n",
    "ethnicity_df = pd.DataFrame(columns=ethnicities)\n",
    "\n",
    "ethnicity_df.insert(loc=0, column='City', value='')"
   ]
  },
  {
   "cell_type": "code",
   "execution_count": 224,
   "metadata": {},
   "outputs": [],
   "source": [
    "ethnicity_df['City'] = cities\n",
    "\n",
    "k = 0\n",
    "for i in range(len(cities)):\n",
    "    for column in ethnicity_df.columns[1:]:\n",
    "        ethnicity_df.loc[i, column] = result_ethnicity_df.loc[k,'C1_COUNT_TOTAL']\n",
    "        k += 1\n",
    "\n",
    "#for column in ethnicity_df.columns[1:]:\n",
    "    #ethnicity_df[column] = ethnicity_df[column].astype(int)"
   ]
  },
  {
   "cell_type": "code",
   "execution_count": 225,
   "metadata": {},
   "outputs": [],
   "source": [
    "ethnicity_df.to_csv('teste.csv', index=False)\n",
    "age_df.to_csv('testa.csv', index=False)"
   ]
  },
  {
   "cell_type": "code",
   "execution_count": null,
   "metadata": {},
   "outputs": [],
   "source": []
  },
  {
   "cell_type": "markdown",
   "metadata": {},
   "source": []
  },
  {
   "cell_type": "code",
   "execution_count": null,
   "metadata": {},
   "outputs": [],
   "source": []
  },
  {
   "cell_type": "code",
   "execution_count": null,
   "metadata": {},
   "outputs": [],
   "source": []
  }
 ],
 "metadata": {
  "colab": {
   "history_visible": true,
   "provenance": []
  },
  "kernelspec": {
   "display_name": "Python 3 (ipykernel)",
   "language": "python",
   "name": "python3"
  },
  "language_info": {
   "codemirror_mode": {
    "name": "ipython",
    "version": 3
   },
   "file_extension": ".py",
   "mimetype": "text/x-python",
   "name": "python",
   "nbconvert_exporter": "python",
   "pygments_lexer": "ipython3",
   "version": "3.11.4"
  }
 },
 "nbformat": 4,
 "nbformat_minor": 1
}
