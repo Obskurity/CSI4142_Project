{
 "cells": [
  {
   "cell_type": "markdown",
   "metadata": {
    "id": "J-vg3IuRsoL5"
   },
   "source": [
    "**Extract Recreation Centre Location Data**\n"
   ]
  },
  {
   "cell_type": "code",
   "execution_count": 52,
   "metadata": {
    "id": "u4Th7jCNRxVU"
   },
   "outputs": [],
   "source": [
    "import pandas as pd"
   ]
  },
  {
   "cell_type": "code",
   "execution_count": 53,
   "metadata": {
    "colab": {
     "base_uri": "https://localhost:8080/",
     "height": 329
    },
    "id": "Jt1MCF2QVjvS",
    "outputId": "9a7208eb-ac3f-454a-fc1a-8ad8d2c3b3cb"
   },
   "outputs": [
    {
     "name": "stderr",
     "output_type": "stream",
     "text": [
      "C:\\Users\\Arthur\\AppData\\Local\\Temp\\ipykernel_37220\\371614087.py:3: DtypeWarning: Columns (17,18) have mixed types. Specify dtype option on import or set low_memory=False.\n",
      "  df = pd.read_csv('./ODRSF_v1.0.csv', encoding='cp1252')\n"
     ]
    }
   ],
   "source": [
    "# read file containing information about recreation centre locations and types\n",
    "# facility location dataframe\n",
    "df = pd.read_csv('./ODRSF_v1.0.csv', encoding='cp1252')"
   ]
  },
  {
   "cell_type": "code",
   "execution_count": 54,
   "metadata": {
    "id": "AF4xSiyDWVPB"
   },
   "outputs": [],
   "source": [
    "# Remove unneeded columns\n",
    "df = df.drop(columns = ['Index', 'Facility_Name', 'Source_Facility_Type', 'Provider', 'City', 'Source_Format_Address', 'CSD_UID', 'PR_UID', 'Latitude', 'Longitude'])\n",
    "\n",
    "# Remove unit since almost all values are null\n",
    "df = df.drop(columns = ['Unit'])"
   ]
  },
  {
   "cell_type": "code",
   "execution_count": 55,
   "metadata": {
    "id": "_1CiZM8ferMW"
   },
   "outputs": [],
   "source": [
    "#Replace empty values of street_no with -1\n",
    "df.loc[df['Street_No'] == '..', 'Street_No'] = '-1'\n",
    "\n",
    "# Replace rest of street strings with an empty value\n",
    "df.loc[df['Street_Name'] == '..', 'Street_Name'] = ''\n",
    "df.loc[df['Street_Type'] == '..', 'Street_Type'] = ''\n",
    "df.loc[df['Street_Direction'] == '..', 'Street_Direction'] = ''\n",
    "df.loc[df['Street_Direction'] == '..', 'Street_Direction'] = ''\n",
    "df.loc[df['Postal_Code'] == '..', 'Postal_Code'] = ''"
   ]
  },
  {
   "cell_type": "code",
   "execution_count": 56,
   "metadata": {
    "id": "jouxryv1k50D"
   },
   "outputs": [],
   "source": [
    "#convert street_no to integer\n",
    "df['Street_No'] = df['Street_No'].astype(int)"
   ]
  },
  {
   "cell_type": "code",
   "execution_count": 57,
   "metadata": {
    "id": "djTDyVRUk7ps"
   },
   "outputs": [],
   "source": [
    "# Captialize all province/territory column\n",
    "df['Prov_Terr'] = df['Prov_Terr'].str.upper()"
   ]
  },
  {
   "cell_type": "code",
   "execution_count": 58,
   "metadata": {
    "id": "1AywaMwzymy2"
   },
   "outputs": [],
   "source": [
    "# remove all non ontario provinces\n",
    "df = df[df['Prov_Terr'] == 'ON']"
   ]
  },
  {
   "cell_type": "code",
   "execution_count": 59,
   "metadata": {
    "id": "kGYRd7NECJy9"
   },
   "outputs": [],
   "source": [
    "unique_cities = df['CSD_Name'].unique()"
   ]
  },
  {
   "cell_type": "markdown",
   "metadata": {
    "id": "l4WjI9uWaBE1"
   },
   "source": [
    "**Create Dataframe for City Demographics in Ontario**"
   ]
  },
  {
   "cell_type": "code",
   "execution_count": 60,
   "metadata": {
    "id": "B694hG3tEyYt"
   },
   "outputs": [],
   "source": [
    "demographic_df = pd.read_csv('./Ontario_Demographics.csv', encoding='cp1252')"
   ]
  },
  {
   "cell_type": "code",
   "execution_count": 61,
   "metadata": {
    "id": "DXG6weeKE0IQ"
   },
   "outputs": [],
   "source": [
    "demographic_df = demographic_df.drop(columns = ['CENSUS_YEAR', 'DGUID', 'ALT_GEO_CODE', 'GEO_LEVEL', 'TNR_SF', 'TNR_LF', 'DATA_QUALITY_FLAG','SYMBOL', 'CHARACTERISTIC_ID', 'CHARACTERISTIC_NOTE', 'C2_COUNT_MEN+', 'C3_COUNT_WOMEN+', 'C10_RATE_TOTAL', 'C11_RATE_MEN+', 'C12_RATE_WOMEN+', 'SYMBOL.1','SYMBOL.2','SYMBOL.3','SYMBOL.4','SYMBOL.5'])"
   ]
  },
  {
   "cell_type": "code",
   "execution_count": 62,
   "metadata": {
    "id": "CMTB4_h3FUGK"
   },
   "outputs": [],
   "source": [
    "# Remove unnecessary information after comma in geo_name so processing can be easier\n",
    "demographic_df['GEO_NAME'] = demographic_df['GEO_NAME'].str.split(',').str[0]"
   ]
  },
  {
   "cell_type": "code",
   "execution_count": 63,
   "metadata": {
    "id": "06JmSp--G_F9"
   },
   "outputs": [],
   "source": [
    "# only keep rows where the city is both in the demographic dataframe and the facility location dataframe\n",
    "demographic_df = demographic_df[demographic_df['GEO_NAME'].isin(unique_cities)]"
   ]
  },
  {
   "cell_type": "code",
   "execution_count": 64,
   "metadata": {
    "id": "e4kFAwyFPBZ-"
   },
   "outputs": [],
   "source": [
    "#get starting and ending index of rows that contain age information about the city\n",
    "age_indexes = demographic_df[demographic_df['CHARACTERISTIC_NAME'].str.contains('Total - Age groups of the population - 100% data|100 years and over')].index\n",
    "\n",
    "#get starting and ending index of rows that contain ethnicity information about the city\n",
    "ethnicity_indexes = demographic_df[demographic_df['CHARACTERISTIC_NAME'].str.contains('Total visible minority population|Total - Ethnic or cultural origin for the population in private households - 25% sample data')].index"
   ]
  },
  {
   "cell_type": "code",
   "execution_count": 65,
   "metadata": {
    "id": "g0bFTYZuT6An"
   },
   "outputs": [],
   "source": [
    "selected_age_dfs = []\n",
    "selected_ethnicity_dfs = []\n",
    "\n",
    "# store only data in dataframe from start and end indexes\n",
    "for i in range(0, len(age_indexes), 2):\n",
    "    age_df = demographic_df[age_indexes[i] + 1: age_indexes[i + 1] + 1]\n",
    "    ethnicity_df = demographic_df[ethnicity_indexes[i] + 1: ethnicity_indexes[i + 1]]\n",
    "    selected_age_dfs.append(age_df)\n",
    "    selected_ethnicity_dfs.append(ethnicity_df)\n",
    "\n",
    "#resulting dataframes \n",
    "result_age_df = pd.concat(selected_age_dfs, ignore_index=True)\n",
    "result_ethnicity_df = pd.concat(selected_ethnicity_dfs, ignore_index=True)\n",
    "\n",
    "#result_age_df.to_csv('output1.csv', index=False)\n",
    "#result_ethnicity_df.to_csv('output2.csv', index=False)"
   ]
  },
  {
   "cell_type": "code",
   "execution_count": 72,
   "metadata": {},
   "outputs": [
    {
     "data": {
      "text/html": [
       "<div>\n",
       "<style scoped>\n",
       "    .dataframe tbody tr th:only-of-type {\n",
       "        vertical-align: middle;\n",
       "    }\n",
       "\n",
       "    .dataframe tbody tr th {\n",
       "        vertical-align: top;\n",
       "    }\n",
       "\n",
       "    .dataframe thead th {\n",
       "        text-align: right;\n",
       "    }\n",
       "</style>\n",
       "<table border=\"1\" class=\"dataframe\">\n",
       "  <thead>\n",
       "    <tr style=\"text-align: right;\">\n",
       "      <th></th>\n",
       "      <th>GEO_NAME</th>\n",
       "      <th>CHARACTERISTIC_NAME</th>\n",
       "      <th>C1_COUNT_TOTAL</th>\n",
       "    </tr>\n",
       "  </thead>\n",
       "  <tbody>\n",
       "    <tr>\n",
       "      <th>0</th>\n",
       "      <td>South Glengarry</td>\n",
       "      <td>South Asian</td>\n",
       "      <td>120.0</td>\n",
       "    </tr>\n",
       "    <tr>\n",
       "      <th>1</th>\n",
       "      <td>South Glengarry</td>\n",
       "      <td>Chinese</td>\n",
       "      <td>15.0</td>\n",
       "    </tr>\n",
       "    <tr>\n",
       "      <th>2</th>\n",
       "      <td>South Glengarry</td>\n",
       "      <td>Black</td>\n",
       "      <td>115.0</td>\n",
       "    </tr>\n",
       "    <tr>\n",
       "      <th>3</th>\n",
       "      <td>South Glengarry</td>\n",
       "      <td>Filipino</td>\n",
       "      <td>40.0</td>\n",
       "    </tr>\n",
       "    <tr>\n",
       "      <th>4</th>\n",
       "      <td>South Glengarry</td>\n",
       "      <td>Arab</td>\n",
       "      <td>65.0</td>\n",
       "    </tr>\n",
       "    <tr>\n",
       "      <th>...</th>\n",
       "      <td>...</td>\n",
       "      <td>...</td>\n",
       "      <td>...</td>\n",
       "    </tr>\n",
       "    <tr>\n",
       "      <th>3128</th>\n",
       "      <td>Kenora</td>\n",
       "      <td>Korean</td>\n",
       "      <td>0.0</td>\n",
       "    </tr>\n",
       "    <tr>\n",
       "      <th>3129</th>\n",
       "      <td>Kenora</td>\n",
       "      <td>Japanese</td>\n",
       "      <td>10.0</td>\n",
       "    </tr>\n",
       "    <tr>\n",
       "      <th>3130</th>\n",
       "      <td>Kenora</td>\n",
       "      <td>Visible minority, n.i.e.</td>\n",
       "      <td>0.0</td>\n",
       "    </tr>\n",
       "    <tr>\n",
       "      <th>3131</th>\n",
       "      <td>Kenora</td>\n",
       "      <td>Multiple visible minorities</td>\n",
       "      <td>0.0</td>\n",
       "    </tr>\n",
       "    <tr>\n",
       "      <th>3132</th>\n",
       "      <td>Kenora</td>\n",
       "      <td>Not a visible minority</td>\n",
       "      <td>7300.0</td>\n",
       "    </tr>\n",
       "  </tbody>\n",
       "</table>\n",
       "<p>3133 rows × 3 columns</p>\n",
       "</div>"
      ],
      "text/plain": [
       "             GEO_NAME              CHARACTERISTIC_NAME  C1_COUNT_TOTAL\n",
       "0     South Glengarry                      South Asian           120.0\n",
       "1     South Glengarry                          Chinese            15.0\n",
       "2     South Glengarry                            Black           115.0\n",
       "3     South Glengarry                         Filipino            40.0\n",
       "4     South Glengarry                             Arab            65.0\n",
       "...               ...                              ...             ...\n",
       "3128           Kenora                           Korean             0.0\n",
       "3129           Kenora                         Japanese            10.0\n",
       "3130           Kenora         Visible minority, n.i.e.             0.0\n",
       "3131           Kenora      Multiple visible minorities             0.0\n",
       "3132           Kenora           Not a visible minority          7300.0\n",
       "\n",
       "[3133 rows x 3 columns]"
      ]
     },
     "execution_count": 72,
     "metadata": {},
     "output_type": "execute_result"
    }
   ],
   "source": [
    "# get all unique cities from list\n",
    "cities = result_age_df['GEO_NAME'].unique()"
   ]
  },
  {
   "cell_type": "markdown",
   "metadata": {},
   "source": [
    "Transpose Age Dataframe"
   ]
  },
  {
   "cell_type": "code",
   "execution_count": 67,
   "metadata": {},
   "outputs": [],
   "source": [
    "# Unique age ranges - will be used as the new column in the new dataframe\n",
    "ages = result_age_df['CHARACTERISTIC_NAME'].unique()\n",
    "\n",
    "age_df = pd.DataFrame(columns=ages)\n",
    "\n",
    "# add new column for city\n",
    "age_df.insert(loc=0, column='City', value='')"
   ]
  },
  {
   "cell_type": "code",
   "execution_count": 68,
   "metadata": {},
   "outputs": [],
   "source": [
    "# Populate first column cities with all city variables\n",
    "age_df['City'] = cities\n",
    "\n",
    "# Set column data\n",
    "j = 0\n",
    "for i in range(len(cities)):\n",
    "    for column in age_df.columns[1:]:\n",
    "        age_df.loc[i, column] = result_age_df.loc[j,'C1_COUNT_TOTAL']\n",
    "        j += 1     "
   ]
  },
  {
   "cell_type": "code",
   "execution_count": 69,
   "metadata": {},
   "outputs": [],
   "source": [
    "ethnicities = result_ethnicity_df['CHARACTERISTIC_NAME'].unique()\n",
    "\n",
    "ethnicity_df = pd.DataFrame(columns=ethnicities)\n",
    "\n",
    "ethnicity_df.insert(loc=0, column='City', value='')"
   ]
  },
  {
   "cell_type": "code",
   "execution_count": 70,
   "metadata": {},
   "outputs": [],
   "source": [
    "ethnicity_df['City'] = cities\n",
    "\n",
    "k = 0\n",
    "for i in range(len(cities)):\n",
    "    for column in ethnicity_df.columns[1:]:\n",
    "        ethnicity_df.loc[i, column] = result_ethnicity_df.loc[k,'C1_COUNT_TOTAL']\n",
    "        k += 1   "
   ]
  },
  {
   "cell_type": "code",
   "execution_count": 71,
   "metadata": {},
   "outputs": [
    {
     "data": {
      "text/html": [
       "<div>\n",
       "<style scoped>\n",
       "    .dataframe tbody tr th:only-of-type {\n",
       "        vertical-align: middle;\n",
       "    }\n",
       "\n",
       "    .dataframe tbody tr th {\n",
       "        vertical-align: top;\n",
       "    }\n",
       "\n",
       "    .dataframe thead th {\n",
       "        text-align: right;\n",
       "    }\n",
       "</style>\n",
       "<table border=\"1\" class=\"dataframe\">\n",
       "  <thead>\n",
       "    <tr style=\"text-align: right;\">\n",
       "      <th></th>\n",
       "      <th>City</th>\n",
       "      <th>South Asian</th>\n",
       "      <th>Chinese</th>\n",
       "      <th>Black</th>\n",
       "      <th>Filipino</th>\n",
       "      <th>Arab</th>\n",
       "      <th>Latin American</th>\n",
       "      <th>Southeast Asian</th>\n",
       "      <th>West Asian</th>\n",
       "      <th>Korean</th>\n",
       "      <th>Japanese</th>\n",
       "      <th>Visible minority, n.i.e.</th>\n",
       "      <th>Multiple visible minorities</th>\n",
       "      <th>Not a visible minority</th>\n",
       "    </tr>\n",
       "  </thead>\n",
       "  <tbody>\n",
       "    <tr>\n",
       "      <th>0</th>\n",
       "      <td>South Glengarry</td>\n",
       "      <td>120.0</td>\n",
       "      <td>15.0</td>\n",
       "      <td>115.0</td>\n",
       "      <td>40.0</td>\n",
       "      <td>65.0</td>\n",
       "      <td>15.0</td>\n",
       "      <td>35.0</td>\n",
       "      <td>0.0</td>\n",
       "      <td>0.0</td>\n",
       "      <td>0.0</td>\n",
       "      <td>15.0</td>\n",
       "      <td>0.0</td>\n",
       "      <td>12765.0</td>\n",
       "    </tr>\n",
       "    <tr>\n",
       "      <th>1</th>\n",
       "      <td>Cornwall</td>\n",
       "      <td>2360.0</td>\n",
       "      <td>165.0</td>\n",
       "      <td>775.0</td>\n",
       "      <td>300.0</td>\n",
       "      <td>240.0</td>\n",
       "      <td>240.0</td>\n",
       "      <td>165.0</td>\n",
       "      <td>160.0</td>\n",
       "      <td>50.0</td>\n",
       "      <td>30.0</td>\n",
       "      <td>35.0</td>\n",
       "      <td>85.0</td>\n",
       "      <td>41750.0</td>\n",
       "    </tr>\n",
       "    <tr>\n",
       "      <th>2</th>\n",
       "      <td>South Dundas</td>\n",
       "      <td>20.0</td>\n",
       "      <td>35.0</td>\n",
       "      <td>65.0</td>\n",
       "      <td>35.0</td>\n",
       "      <td>0.0</td>\n",
       "      <td>15.0</td>\n",
       "      <td>0.0</td>\n",
       "      <td>0.0</td>\n",
       "      <td>0.0</td>\n",
       "      <td>0.0</td>\n",
       "      <td>0.0</td>\n",
       "      <td>0.0</td>\n",
       "      <td>10745.0</td>\n",
       "    </tr>\n",
       "    <tr>\n",
       "      <th>3</th>\n",
       "      <td>North Glengarry</td>\n",
       "      <td>45.0</td>\n",
       "      <td>0.0</td>\n",
       "      <td>65.0</td>\n",
       "      <td>10.0</td>\n",
       "      <td>20.0</td>\n",
       "      <td>50.0</td>\n",
       "      <td>0.0</td>\n",
       "      <td>0.0</td>\n",
       "      <td>15.0</td>\n",
       "      <td>0.0</td>\n",
       "      <td>0.0</td>\n",
       "      <td>10.0</td>\n",
       "      <td>9670.0</td>\n",
       "    </tr>\n",
       "    <tr>\n",
       "      <th>4</th>\n",
       "      <td>Alfred and Plantagenet</td>\n",
       "      <td>40.0</td>\n",
       "      <td>40.0</td>\n",
       "      <td>75.0</td>\n",
       "      <td>25.0</td>\n",
       "      <td>15.0</td>\n",
       "      <td>20.0</td>\n",
       "      <td>0.0</td>\n",
       "      <td>0.0</td>\n",
       "      <td>0.0</td>\n",
       "      <td>0.0</td>\n",
       "      <td>0.0</td>\n",
       "      <td>0.0</td>\n",
       "      <td>9430.0</td>\n",
       "    </tr>\n",
       "    <tr>\n",
       "      <th>...</th>\n",
       "      <td>...</td>\n",
       "      <td>...</td>\n",
       "      <td>...</td>\n",
       "      <td>...</td>\n",
       "      <td>...</td>\n",
       "      <td>...</td>\n",
       "      <td>...</td>\n",
       "      <td>...</td>\n",
       "      <td>...</td>\n",
       "      <td>...</td>\n",
       "      <td>...</td>\n",
       "      <td>...</td>\n",
       "      <td>...</td>\n",
       "      <td>...</td>\n",
       "    </tr>\n",
       "    <tr>\n",
       "      <th>230</th>\n",
       "      <td>Marathon</td>\n",
       "      <td>0.0</td>\n",
       "      <td>0.0</td>\n",
       "      <td>0.0</td>\n",
       "      <td>0.0</td>\n",
       "      <td>0.0</td>\n",
       "      <td>0.0</td>\n",
       "      <td>0.0</td>\n",
       "      <td>0.0</td>\n",
       "      <td>0.0</td>\n",
       "      <td>0.0</td>\n",
       "      <td>0.0</td>\n",
       "      <td>0.0</td>\n",
       "      <td>345.0</td>\n",
       "    </tr>\n",
       "    <tr>\n",
       "      <th>231</th>\n",
       "      <td>Machin</td>\n",
       "      <td>2745.0</td>\n",
       "      <td>1020.0</td>\n",
       "      <td>1185.0</td>\n",
       "      <td>400.0</td>\n",
       "      <td>450.0</td>\n",
       "      <td>390.0</td>\n",
       "      <td>735.0</td>\n",
       "      <td>175.0</td>\n",
       "      <td>155.0</td>\n",
       "      <td>315.0</td>\n",
       "      <td>160.0</td>\n",
       "      <td>240.0</td>\n",
       "      <td>98680.0</td>\n",
       "    </tr>\n",
       "    <tr>\n",
       "      <th>232</th>\n",
       "      <td>Dryden</td>\n",
       "      <td>0.0</td>\n",
       "      <td>20.0</td>\n",
       "      <td>25.0</td>\n",
       "      <td>0.0</td>\n",
       "      <td>0.0</td>\n",
       "      <td>0.0</td>\n",
       "      <td>0.0</td>\n",
       "      <td>15.0</td>\n",
       "      <td>0.0</td>\n",
       "      <td>0.0</td>\n",
       "      <td>0.0</td>\n",
       "      <td>0.0</td>\n",
       "      <td>5835.0</td>\n",
       "    </tr>\n",
       "    <tr>\n",
       "      <th>233</th>\n",
       "      <td>Ear Falls</td>\n",
       "      <td>0.0</td>\n",
       "      <td>0.0</td>\n",
       "      <td>0.0</td>\n",
       "      <td>0.0</td>\n",
       "      <td>0.0</td>\n",
       "      <td>0.0</td>\n",
       "      <td>0.0</td>\n",
       "      <td>0.0</td>\n",
       "      <td>0.0</td>\n",
       "      <td>0.0</td>\n",
       "      <td>0.0</td>\n",
       "      <td>0.0</td>\n",
       "      <td>405.0</td>\n",
       "    </tr>\n",
       "    <tr>\n",
       "      <th>234</th>\n",
       "      <td>Kenora</td>\n",
       "      <td>0.0</td>\n",
       "      <td>0.0</td>\n",
       "      <td>0.0</td>\n",
       "      <td>0.0</td>\n",
       "      <td>0.0</td>\n",
       "      <td>0.0</td>\n",
       "      <td>0.0</td>\n",
       "      <td>0.0</td>\n",
       "      <td>0.0</td>\n",
       "      <td>0.0</td>\n",
       "      <td>0.0</td>\n",
       "      <td>0.0</td>\n",
       "      <td>960.0</td>\n",
       "    </tr>\n",
       "  </tbody>\n",
       "</table>\n",
       "<p>235 rows × 14 columns</p>\n",
       "</div>"
      ],
      "text/plain": [
       "                       City     South Asian     Chinese     Black  \\\n",
       "0           South Glengarry           120.0        15.0     115.0   \n",
       "1                  Cornwall          2360.0       165.0     775.0   \n",
       "2              South Dundas            20.0        35.0      65.0   \n",
       "3           North Glengarry            45.0         0.0      65.0   \n",
       "4    Alfred and Plantagenet            40.0        40.0      75.0   \n",
       "..                      ...             ...         ...       ...   \n",
       "230                Marathon             0.0         0.0       0.0   \n",
       "231                  Machin          2745.0      1020.0    1185.0   \n",
       "232                  Dryden             0.0        20.0      25.0   \n",
       "233               Ear Falls             0.0         0.0       0.0   \n",
       "234                  Kenora             0.0         0.0       0.0   \n",
       "\n",
       "        Filipino     Arab     Latin American     Southeast Asian  \\\n",
       "0           40.0     65.0               15.0                35.0   \n",
       "1          300.0    240.0              240.0               165.0   \n",
       "2           35.0      0.0               15.0                 0.0   \n",
       "3           10.0     20.0               50.0                 0.0   \n",
       "4           25.0     15.0               20.0                 0.0   \n",
       "..           ...      ...                ...                 ...   \n",
       "230          0.0      0.0                0.0                 0.0   \n",
       "231        400.0    450.0              390.0               735.0   \n",
       "232          0.0      0.0                0.0                 0.0   \n",
       "233          0.0      0.0                0.0                 0.0   \n",
       "234          0.0      0.0                0.0                 0.0   \n",
       "\n",
       "        West Asian     Korean     Japanese     Visible minority, n.i.e.  \\\n",
       "0              0.0        0.0          0.0                         15.0   \n",
       "1            160.0       50.0         30.0                         35.0   \n",
       "2              0.0        0.0          0.0                          0.0   \n",
       "3              0.0       15.0          0.0                          0.0   \n",
       "4              0.0        0.0          0.0                          0.0   \n",
       "..             ...        ...          ...                          ...   \n",
       "230            0.0        0.0          0.0                          0.0   \n",
       "231          175.0      155.0        315.0                        160.0   \n",
       "232           15.0        0.0          0.0                          0.0   \n",
       "233            0.0        0.0          0.0                          0.0   \n",
       "234            0.0        0.0          0.0                          0.0   \n",
       "\n",
       "        Multiple visible minorities   Not a visible minority  \n",
       "0                               0.0                  12765.0  \n",
       "1                              85.0                  41750.0  \n",
       "2                               0.0                  10745.0  \n",
       "3                              10.0                   9670.0  \n",
       "4                               0.0                   9430.0  \n",
       "..                              ...                      ...  \n",
       "230                             0.0                    345.0  \n",
       "231                           240.0                  98680.0  \n",
       "232                             0.0                   5835.0  \n",
       "233                             0.0                    405.0  \n",
       "234                             0.0                    960.0  \n",
       "\n",
       "[235 rows x 14 columns]"
      ]
     },
     "execution_count": 71,
     "metadata": {},
     "output_type": "execute_result"
    }
   ],
   "source": [
    "ethnicity_df"
   ]
  },
  {
   "cell_type": "code",
   "execution_count": null,
   "metadata": {},
   "outputs": [],
   "source": []
  },
  {
   "cell_type": "markdown",
   "metadata": {},
   "source": []
  },
  {
   "cell_type": "code",
   "execution_count": null,
   "metadata": {},
   "outputs": [],
   "source": []
  },
  {
   "cell_type": "code",
   "execution_count": null,
   "metadata": {},
   "outputs": [],
   "source": []
  }
 ],
 "metadata": {
  "colab": {
   "history_visible": true,
   "provenance": []
  },
  "kernelspec": {
   "display_name": "Python 3 (ipykernel)",
   "language": "python",
   "name": "python3"
  },
  "language_info": {
   "codemirror_mode": {
    "name": "ipython",
    "version": 3
   },
   "file_extension": ".py",
   "mimetype": "text/x-python",
   "name": "python",
   "nbconvert_exporter": "python",
   "pygments_lexer": "ipython3",
   "version": "3.11.4"
  }
 },
 "nbformat": 4,
 "nbformat_minor": 1
}
